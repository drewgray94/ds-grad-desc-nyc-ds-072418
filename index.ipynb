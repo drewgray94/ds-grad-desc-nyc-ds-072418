{
 "cells": [
  {
   "cell_type": "markdown",
   "metadata": {},
   "source": [
    "# Gradient of Matrices"
   ]
  },
  {
   "cell_type": "markdown",
   "metadata": {},
   "source": [
    "Recall that we previously fit a regression model y=mx+b to predict domestic gross sales from a movies budget.  \n",
    "Expanding this example, we can imagine being in charge of managing a large production and we might want to figure out what other factors (such as the actors, director, genre, running length or other features) were most predictive of the movie's success in the box office.\n",
    "\n",
    "Here gradient descent is slightly more complicated as we're dealing with the multivariate case. As a result, we can take the derivative (or gradient) with respect to different variables. The underlying intuition is that we want to move in the direction of the steepest descent in hopes that we can find the global minimum. We then do this through a series of successive steepest steps forward until we are satisfied with the result."
   ]
  },
  {
   "cell_type": "markdown",
   "metadata": {},
   "source": [
    "### 1. Import the data. It's stored in a file called 'movie_data_detailed_with_ols.xlsx'."
   ]
  },
  {
   "cell_type": "code",
   "execution_count": 1,
   "metadata": {},
   "outputs": [],
   "source": [
    "import pandas as pd\n",
    "%matplotlib inline"
   ]
  },
  {
   "cell_type": "code",
   "execution_count": 2,
   "metadata": {},
   "outputs": [
    {
     "data": {
      "text/html": [
       "<div>\n",
       "<style scoped>\n",
       "    .dataframe tbody tr th:only-of-type {\n",
       "        vertical-align: middle;\n",
       "    }\n",
       "\n",
       "    .dataframe tbody tr th {\n",
       "        vertical-align: top;\n",
       "    }\n",
       "\n",
       "    .dataframe thead th {\n",
       "        text-align: right;\n",
       "    }\n",
       "</style>\n",
       "<table border=\"1\" class=\"dataframe\">\n",
       "  <thead>\n",
       "    <tr style=\"text-align: right;\">\n",
       "      <th></th>\n",
       "      <th>budget</th>\n",
       "      <th>domgross</th>\n",
       "      <th>title</th>\n",
       "      <th>Response_Json</th>\n",
       "      <th>Year</th>\n",
       "      <th>imdbRating</th>\n",
       "      <th>Metascore</th>\n",
       "      <th>imdbVotes</th>\n",
       "      <th>Model</th>\n",
       "    </tr>\n",
       "  </thead>\n",
       "  <tbody>\n",
       "    <tr>\n",
       "      <th>0</th>\n",
       "      <td>13000000</td>\n",
       "      <td>25682380</td>\n",
       "      <td>21 &amp;amp; Over</td>\n",
       "      <td>0</td>\n",
       "      <td>2008</td>\n",
       "      <td>6.8</td>\n",
       "      <td>48</td>\n",
       "      <td>206513</td>\n",
       "      <td>4.912759e+07</td>\n",
       "    </tr>\n",
       "    <tr>\n",
       "      <th>1</th>\n",
       "      <td>45658735</td>\n",
       "      <td>13414714</td>\n",
       "      <td>Dredd 3D</td>\n",
       "      <td>0</td>\n",
       "      <td>2012</td>\n",
       "      <td>0.0</td>\n",
       "      <td>0</td>\n",
       "      <td>0</td>\n",
       "      <td>2.267265e+05</td>\n",
       "    </tr>\n",
       "    <tr>\n",
       "      <th>2</th>\n",
       "      <td>20000000</td>\n",
       "      <td>53107035</td>\n",
       "      <td>12 Years a Slave</td>\n",
       "      <td>0</td>\n",
       "      <td>2013</td>\n",
       "      <td>8.1</td>\n",
       "      <td>96</td>\n",
       "      <td>537525</td>\n",
       "      <td>1.626624e+08</td>\n",
       "    </tr>\n",
       "    <tr>\n",
       "      <th>3</th>\n",
       "      <td>61000000</td>\n",
       "      <td>75612460</td>\n",
       "      <td>2 Guns</td>\n",
       "      <td>0</td>\n",
       "      <td>2013</td>\n",
       "      <td>6.7</td>\n",
       "      <td>55</td>\n",
       "      <td>173726</td>\n",
       "      <td>7.723381e+07</td>\n",
       "    </tr>\n",
       "    <tr>\n",
       "      <th>4</th>\n",
       "      <td>40000000</td>\n",
       "      <td>95020213</td>\n",
       "      <td>42</td>\n",
       "      <td>0</td>\n",
       "      <td>2013</td>\n",
       "      <td>7.5</td>\n",
       "      <td>62</td>\n",
       "      <td>74170</td>\n",
       "      <td>4.151958e+07</td>\n",
       "    </tr>\n",
       "  </tbody>\n",
       "</table>\n",
       "</div>"
      ],
      "text/plain": [
       "     budget  domgross             title  Response_Json  Year  imdbRating  \\\n",
       "0  13000000  25682380     21 &amp; Over              0  2008         6.8   \n",
       "1  45658735  13414714          Dredd 3D              0  2012         0.0   \n",
       "2  20000000  53107035  12 Years a Slave              0  2013         8.1   \n",
       "3  61000000  75612460            2 Guns              0  2013         6.7   \n",
       "4  40000000  95020213                42              0  2013         7.5   \n",
       "\n",
       "   Metascore  imdbVotes         Model  \n",
       "0         48     206513  4.912759e+07  \n",
       "1          0          0  2.267265e+05  \n",
       "2         96     537525  1.626624e+08  \n",
       "3         55     173726  7.723381e+07  \n",
       "4         62      74170  4.151958e+07  "
      ]
     },
     "execution_count": 2,
     "metadata": {},
     "output_type": "execute_result"
    }
   ],
   "source": [
    "df = pd.read_excel('movie_data_detailed_with_ols.xlsx')\n",
    "df.head()"
   ]
  },
  {
   "cell_type": "markdown",
   "metadata": {},
   "source": [
    "### 2. Scatter Plot <a id=\"scatter\"></a>  \n",
    "Create a Scatter Plot of the budget and  Domestic Gross (domgross) along with the model column's predictions."
   ]
  },
  {
   "cell_type": "code",
   "execution_count": 3,
   "metadata": {},
   "outputs": [],
   "source": [
    "%matplotlib inline\n",
    "import matplotlib.pyplot as plt"
   ]
  },
  {
   "cell_type": "code",
   "execution_count": 4,
   "metadata": {},
   "outputs": [
    {
     "data": {
      "text/plain": [
       "<matplotlib.collections.PathCollection at 0x10f472f28>"
      ]
     },
     "execution_count": 4,
     "metadata": {},
     "output_type": "execute_result"
    },
    {
     "data": {
      "image/png": "[encoded data removed]",
      "text/plain": [
       "<matplotlib.figure.Figure at 0x10f3d1128>"
      ]
     },
     "metadata": {},
     "output_type": "display_data"
    }
   ],
   "source": [
    "plt.scatter(df.budget, df.domgross, color='blue')\n",
    "plt.scatter(df.budget, df['Model'], color='red')"
   ]
  },
  {
   "cell_type": "markdown",
   "metadata": {},
   "source": [
    "As you can see, we get far better results then a simple straight line! Let's start to further investigate how this happens under the hood."
   ]
  },
  {
   "cell_type": "markdown",
   "metadata": {},
   "source": [
    "Gradient Descent works by finding the steepest slope downhill and taking a step in that direction.  \n",
    "From there, you then iterate and take another step in the steepest direction from that point.  \n",
    "This continues on until you converge on a minimum solution.\n",
    "\n",
    "To write our gradient descent algorithm, we'll need a few things:\n",
    "- An array of [coefficient] weights for the polynomial model. \n",
    "- An error function to evaluate the current iteration's model.\n",
    "- A specified step size coefficient\n",
    "- A precision parameter"
   ]
  },
  {
   "cell_type": "markdown",
   "metadata": {},
   "source": [
    "## 3. Define the problem.\n",
    "Create an X (multidimensional) and Y variable."
   ]
  },
  {
   "cell_type": "code",
   "execution_count": 5,
   "metadata": {},
   "outputs": [],
   "source": [
    "X = df[['budget', 'imdbRating',\n",
    "       'Metascore', 'imdbVotes']]\n",
    "y = df['domgross']"
   ]
  },
  {
   "cell_type": "markdown",
   "metadata": {},
   "source": [
    "### 4.  Predicting!  \n",
    "**Create a function predict(X,w) that takes in a matrix of data and a vector of coefficient weights and returns a vector of predicted values.**\n",
    "\n",
    "$x_1\\bullet w_1 + x_2\\bullet w_2 + x_3\\bullet w_3 + ... = y_1+y_2+y_3+...$"
   ]
  },
  {
   "cell_type": "code",
   "execution_count": 6,
   "metadata": {},
   "outputs": [],
   "source": [
    "def predict(X, w, b=False):\n",
    "    \"\"\"Takes in a matrix X of features, and w,\n",
    "    a vector of coefficients for how much each feature is weighed in the current model.\n",
    "    w[-1] is the constant additive value by default. To remove this feature specify b=False.\"\"\"\n",
    "    if b:\n",
    "        y_hat = np.dot(X, w[:-1])+w[-1] #Multiply coefficient weights by data matrix and add constants\n",
    "        return y_hat\n",
    "    else:\n",
    "        y_hat = np.dot(X, w) #No constant term. Simply mulitply coefficient weights and data.\n",
    "        return y_hat"
   ]
  },
  {
   "cell_type": "markdown",
   "metadata": {},
   "source": [
    "### 5. Write an error function to calculate the residual sum of squares for a given model.  \n",
    "Your function should take in 3 inputs:\n",
    " * a list of x values\n",
    " * a list of y values (corresponding to the x values passed)\n",
    " * a list of $\\hat{y}$ values produced by the model (corresponding to the x values passed)"
   ]
  },
  {
   "cell_type": "code",
   "execution_count": 7,
   "metadata": {},
   "outputs": [
    {
     "data": {
      "text/plain": [
       "1.4298086041804125e+17"
      ]
     },
     "execution_count": 7,
     "metadata": {},
     "output_type": "execute_result"
    }
   ],
   "source": [
    "def rss(y, y_hat):\n",
    "    return sum((y_hat - y)**2)\n",
    "\n",
    "rss(df['domgross'], df['Model'])"
   ]
  },
  {
   "cell_type": "markdown",
   "metadata": {},
   "source": [
    "### 6. Gradient Descent, take 2!\n",
    "\n",
    "Here's a pseudocode outline:  \n",
    "\n",
    "* Initialize a vector of weights for your model.\n",
    "* Then calculate the error for this model using the RSS.\n",
    "* From there, calculate the gradient at this point. \n",
    "* Use the gradient along with your step size coefficient to update your vector of weights.\n",
    "* Iterate! Continue this process until the model converges to an arbitrary precison.  \n",
    "\n",
    "Okay then, let's have at it!  \n",
    "**Define a function grad_desc() that takes in 7 parameters (shown below) and returns a vector of optimized coefficients for the model.**\n",
    "* X #Matrix of Data\n",
    "* Y #Variable interested in modelling\n",
    "* Precision\n",
    "* Max Iterations\n",
    "* Initialization Vector (Initial weights to start the algorithm at)\n",
    "* An error/loss function (Ultimately this is how we measure the effectiveness of our optimization)\n",
    "* A prediction function (This function should take your function weights along with the original data and return predictions; see the previous question)\n",
    "\n",
    "**Have your function print updated weights every so often so you can preview what's going on under the hood.**"
   ]
  },
  {
   "cell_type": "code",
   "execution_count": 8,
   "metadata": {},
   "outputs": [],
   "source": [
    "import numpy as np"
   ]
  },
  {
   "cell_type": "code",
   "execution_count": 9,
   "metadata": {},
   "outputs": [],
   "source": [
    "def grad_desc(x, y, precision, max_iters, w, rss, predict):\n",
    "    previous_step_size = 1 #Arbitrary\n",
    "    iteration = 0 #iteration counter\n",
    "    while (previous_step_size > precision) & (iteration < max_iters):\n",
    "        if iteration%500==0:\n",
    "            print('Iteration {} \\nCurrent weights:\\n{} \\nRSS Produced: {}'.format(iteration, w, rss(y, predict(X, w))))\n",
    "            print('\\n\\n')\n",
    "        #Calculate Nearby Points\n",
    "        sample_steps = np.array(w)/1000.0 #Take mean of feature weights and divide by 100. /\n",
    "                                                #Use this to create surrounding sample points.\n",
    "        #Calculate the Gradient\n",
    "        #Look at weights surrounding our current position.\n",
    "        weights_sample_space = np.array([w+(i*sample_steps) for i in range(-50,51)])\n",
    "\n",
    "        #Calculate the RSS error for this surrounding weights-space.\n",
    "        y_hats = np.array([predict(X, wi) for wi in weights_sample_space])\n",
    "        rss_weights_sample_space = np.array([rss(y, y_hat) for y_hat in y_hats])\n",
    "\n",
    "        #weights_and_y_hats = np.concatenate((weights_sample_space,  np.array([rss_weights_sample_space]).T), axis=1)\n",
    "        gradients = np.gradient(rss_weights_sample_space)\n",
    "        steepest_gradient_idx = max(list(enumerate(gradients)), key=lambda x: x[1])[0]\n",
    "\n",
    "\n",
    "        #Move opposite the gradient by some step size\n",
    "        prev_w = w #Save for calculating how much we moved\n",
    "        w = w - alpha*weights_sample_space[steepest_gradient_idx]\n",
    "\n",
    "        previous_step_size = np.sqrt(sum([wi**2 for wi in w-prev_w]))\n",
    "        iteration += 1\n",
    "    \n",
    "\n",
    "    print(\"Gradient descent converged. Local minimum identified at:\")\n",
    "    print('Iteration {} \\nCurrent weights:\\n{} \\nRSS Produced: {}'.format(iteration, w, rss(y, predict(X, w))))\n",
    "    return w"
   ]
  },
  {
   "cell_type": "markdown",
   "metadata": {},
   "source": [
    "### 7. Try Running Your New Function\n",
    "Use your new function to train a regression model."
   ]
  },
  {
   "cell_type": "code",
   "execution_count": 10,
   "metadata": {},
   "outputs": [],
   "source": [
    "w = [ 5.72229253e-01, -6.01610423e+04, -1.92223233e+06,  4.04048376e+05]\n",
    "alpha = .01 # step size multiplier\n",
    "precision = 0.000001\n",
    "previous_step_size = 1 \n",
    "max_iters = 10000 "
   ]
  },
  {
   "cell_type": "code",
   "execution_count": 11,
   "metadata": {},
   "outputs": [
    {
     "name": "stdout",
     "output_type": "stream",
     "text": [
      "Iteration 0 \n",
      "Current weights:\n",
      "[0.572229253, -60161.0423, -1922232.33, 404048.376] \n",
      "RSS Produced: 2.474751063846404e+23\n",
      "\n",
      "\n",
      "\n",
      "Iteration 500 \n",
      "Current weights:\n",
      "[ 2.92058148e-03 -3.07053904e+02 -9.81081640e+03  2.06220880e+03] \n",
      "RSS Produced: 4.4198863962379034e+18\n",
      "\n",
      "\n",
      "\n",
      "Iteration 1000 \n",
      "Current weights:\n",
      "[ 1.49062568e-05 -1.56716201e+00 -5.00730932e+01  1.05252376e+01] \n",
      "RSS Produced: 4.6344509436464934e+17\n",
      "\n",
      "\n",
      "\n",
      "Iteration 1500 \n",
      "Current weights:\n",
      "[ 7.60795385e-08 -7.99858502e-03 -2.55566362e-01  5.37194032e-02] \n",
      "RSS Produced: 4.7605083000759885e+17\n",
      "\n",
      "\n",
      "\n",
      "Iteration 2000 \n",
      "Current weights:\n",
      "[ 4.03778855e-10 -4.24510922e-05 -1.35637381e-03  2.85106345e-04] \n",
      "RSS Produced: 4.761160090541675e+17\n",
      "\n",
      "\n",
      "\n",
      "Gradient descent converged. Local minimum identified at:\n",
      "Iteration 2264 \n",
      "Current weights:\n",
      "[ 2.95092081e-11 -3.10243614e-06 -9.91273226e-05  2.08363126e-05] \n",
      "RSS Produced: 4.761163314317698e+17\n"
     ]
    },
    {
     "data": {
      "text/plain": [
       "array([ 2.95092081e-11, -3.10243614e-06, -9.91273226e-05,  2.08363126e-05])"
      ]
     },
     "execution_count": 11,
     "metadata": {},
     "output_type": "execute_result"
    }
   ],
   "source": [
    "grad_desc(X, y, precision, max_iters, w, rss, predict)"
   ]
  },
  {
   "cell_type": "markdown",
   "metadata": {},
   "source": [
    "## 8. Use the coefficient weights from your model and create a new column 'Predictions' using your predict function."
   ]
  },
  {
   "cell_type": "code",
   "execution_count": 15,
   "metadata": {},
   "outputs": [],
   "source": [
    "w = [ 2.95092081e-11, -3.10243614e-06, -9.91273226e-05,  2.08363126e-05]\n",
    "df['Predictions'] = predict(X, w, b=False)"
   ]
  },
  {
   "cell_type": "markdown",
   "metadata": {},
   "source": [
    "### 9. Scatter Plot <a id=\"scatter\"></a>  \n",
    "Create a Scatter Plot of the budget and  Domestic Gross (domgross) along with the model column's predictions and those of your new model."
   ]
  },
  {
   "cell_type": "code",
   "execution_count": 16,
   "metadata": {},
   "outputs": [
    {
     "data": {
      "text/plain": [
       "<matplotlib.collections.PathCollection at 0x118a268d0>"
      ]
     },
     "execution_count": 16,
     "metadata": {},
     "output_type": "execute_result"
    },
    {
     "data": {
      "image/png": "[encoded data removed]",
      "text/plain": [
       "<matplotlib.figure.Figure at 0x11896c470>"
      ]
     },
     "metadata": {},
     "output_type": "display_data"
    }
   ],
   "source": [
    "plt.scatter(df.budget, df.domgross, color='blue')\n",
    "plt.scatter(df.budget, df['Model'], color='red')\n",
    "plt.scatter(df.budget, df['Predictions'], color='orange')"
   ]
  },
  {
   "cell_type": "code",
   "execution_count": null,
   "metadata": {},
   "outputs": [],
   "source": []
  }
 ],
 "metadata": {
  "kernelspec": {
   "display_name": "Python 3",
   "language": "python",
   "name": "python3"
  },
  "language_info": {
   "codemirror_mode": {
    "name": "ipython",
    "version": 3
   },
   "file_extension": ".py",
   "mimetype": "text/x-python",
   "name": "python",
   "nbconvert_exporter": "python",
   "pygments_lexer": "ipython3",
   "version": "3.6.4"
  }
 },
 "nbformat": 4,
 "nbformat_minor": 2
}

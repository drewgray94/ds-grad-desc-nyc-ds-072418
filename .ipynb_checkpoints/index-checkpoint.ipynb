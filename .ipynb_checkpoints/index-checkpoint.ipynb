{
 "cells": [
  {
   "cell_type": "markdown",
   "metadata": {},
   "source": [
    "# Gradient of Matrices"
   ]
  },
  {
   "cell_type": "markdown",
   "metadata": {},
   "source": [
    "Recall that we previously fit a regression model y=mx+b to predict domestic gross sales from a movies budget.  \n",
    "Expanding this example, we can imagine being in charge of managing a large production and we might want to figure out what other factors such as the actors, director, genre, running length or other features were most predictive of the movie's success in the box office.\n",
    "\n",
    "Here gradient descent is slightly more complicated as we're dealing with the multivariate case. As a result, we can take the derivative (or gradient) with respect to different variables. The underlying intuition is that we want to move in the direction of the steepest descent in hopes that we can find the global minimum. We then do this through a series of successive steepest steps forward until we are satisfied with the result.\n"
   ]
  },
  {
   "cell_type": "markdown",
   "metadata": {},
   "source": [
    "### 1. Import the data. It's stored in a file called 'movie_data_detailed_with_ols.xlsx'."
   ]
  },
  {
   "cell_type": "code",
   "execution_count": 18,
   "metadata": {},
   "outputs": [],
   "source": [
    "import pandas as pd\n",
    "%matplotlib inline"
   ]
  },
  {
   "cell_type": "code",
   "execution_count": 19,
   "metadata": {},
   "outputs": [],
   "source": [
    "df = None #Your code here"
   ]
  },
  {
   "cell_type": "markdown",
   "metadata": {},
   "source": [
    "### 2. Scatter Plot <a id=\"scatter\"></a>  \n",
    "Create a Scatter Plot of the budget and  Domestic Gross (domgross) along with the model column's predictions."
   ]
  },
  {
   "cell_type": "code",
   "execution_count": 20,
   "metadata": {},
   "outputs": [],
   "source": [
    "#Your Code here"
   ]
  },
  {
   "cell_type": "markdown",
   "metadata": {},
   "source": [
    "As you can see, we get far better results then a simple straight line! Let's start to further investigate how this happens under the hood."
   ]
  },
  {
   "cell_type": "markdown",
   "metadata": {},
   "source": [
    "Gradient Descent works by finding the steepest slope downhill and taking a step in that direction.  \n",
    "From there, you then iterate and take another step in the steepest direction from that point.  \n",
    "This continues on until you converge on a minimum solution.\n",
    "\n",
    "To write our gradient descent algorithm, we'll need a few things:\n",
    "- An array of [coefficient] weights for the polynomial model. \n",
    "- An error function to evaluate the current iteration's model.\n",
    "- A specified step size coefficient\n",
    "- A precision parameter"
   ]
  },
  {
   "cell_type": "markdown",
   "metadata": {},
   "source": [
    "## 3. Define the problem.\n",
    "Create an X (multidimensional) and Y variable."
   ]
  },
  {
   "cell_type": "code",
   "execution_count": 21,
   "metadata": {},
   "outputs": [],
   "source": [
    "X = None #Your code goes here\n",
    "y = None #Your code goes here"
   ]
  },
  {
   "cell_type": "markdown",
   "metadata": {},
   "source": [
    "### 4.  Predicting!  \n",
    "**Create a function predict(X,w) that takes in a matrix of data and a vector of coefficient weights and returns a vector of predicted values.**\n",
    "\n",
    "$x_1\\bullet w_1 + x_2\\bullet w_2 + x_3\\bullet w_3 + ... = y_1+y_2+y_3+...$"
   ]
  },
  {
   "cell_type": "code",
   "execution_count": 22,
   "metadata": {},
   "outputs": [],
   "source": [
    "def predict(X, w, b=False):\n",
    "    \"\"\"Takes in a matrix X of features, and w,\n",
    "    a vector of coefficients for how much each feature is weighed in the current model.\n",
    "    w[-1] is the constant additive value by default. To remove this feature specify b=False.\"\"\"\n",
    "    return None"
   ]
  },
  {
   "cell_type": "markdown",
   "metadata": {},
   "source": [
    "### 5. Write an error function to calculate the residual sum of squares for a given model.  \n",
    "Your function should take in 3 inputs:\n",
    " * a list of x values\n",
    " * a list of y values (corresponding to the x values passed)\n",
    " * a list of $\\hat{y}$ values produced by the model (corresponding to the x values passed)"
   ]
  },
  {
   "cell_type": "code",
   "execution_count": 25,
   "metadata": {},
   "outputs": [],
   "source": [
    "def rss(y, y_hat):\n",
    "    #Your code goes here\n",
    "    return None\n",
    "\n",
    "#rss(df['domgross'], df['Model'])"
   ]
  },
  {
   "cell_type": "markdown",
   "metadata": {},
   "source": [
    "### 6. Gradient Descent, take 2!\n",
    "\n",
    "Here's a pseudocode outline:  \n",
    "\n",
    "* Initialize a vector of weights for your model.\n",
    "* Then calculate the error for this model using the RSS.\n",
    "* From there, calculate the gradient at this point. \n",
    "* Use the gradient along with your step size coefficient to update your vector of weights.\n",
    "* Iterate! Continue this process until the model converges to an arbitrary precison.  \n",
    "\n",
    "Okay then, let's have at it!  \n",
    "**Define a function grad_desc() that takes in 7 parameters (shown below) and returns a vector of optimized coefficients for the model.**\n",
    "* X #Matrix of Data\n",
    "* Y #Variable interested in modelling\n",
    "* Precision\n",
    "* Max Iterations\n",
    "* Initialization Vector (Initial weights to start the algorithm at)\n",
    "* An error/loss function (Ultimately this is how we measure the effectiveness of our optimization)\n",
    "* A prediction function (This function should take your function weights along with the original data and return predictions; see the previous question)\n",
    "\n",
    "**Have your function print updated weights every so often so you can preview what's going on under the hood.**"
   ]
  },
  {
   "cell_type": "code",
   "execution_count": 26,
   "metadata": {},
   "outputs": [],
   "source": [
    "import numpy as np"
   ]
  },
  {
   "cell_type": "code",
   "execution_count": 29,
   "metadata": {},
   "outputs": [],
   "source": [
    "def grad_desc(x, y, precision, max_iters, w, rss, predict):\n",
    "    previous_step_size = 1 #Arbitrary\n",
    "    iteration = 0 #iteration counter\n",
    "#    while :\n",
    "   \n",
    "        #Calculate Nearby Points\n",
    "       \n",
    "        #Calculate the Gradient\n",
    "        #Look at weights surrounding our current position.\n",
    "        \n",
    "        #Calculate the RSS error for this surrounding weights-space.\n",
    "        \n",
    "        \n",
    "        #Move opposite the gradient by some step size\n",
    "        \n",
    "    print(\"Gradient descent converged. Local minimum identified at:\")\n",
    "    print('Iteration {} \\nCurrent weights:\\n{} \\nRSS Produced: {}'.format(iteration, w, rss(y, predict(X, w))))\n",
    "    return None"
   ]
  },
  {
   "cell_type": "markdown",
   "metadata": {},
   "source": [
    "### 7. Try Running Your New Function\n",
    "Use your new function to train a regression model."
   ]
  },
  {
   "cell_type": "code",
   "execution_count": 30,
   "metadata": {},
   "outputs": [],
   "source": [
    "#Run your function!"
   ]
  },
  {
   "cell_type": "markdown",
   "metadata": {},
   "source": [
    "## 8. Use the coefficient weights from your model and create a new column 'Predictions' using your predict function."
   ]
  },
  {
   "cell_type": "code",
   "execution_count": 32,
   "metadata": {},
   "outputs": [],
   "source": [
    "#Your code goes here"
   ]
  },
  {
   "cell_type": "markdown",
   "metadata": {},
   "source": [
    "### 9. Scatter Plot <a id=\"scatter\"></a>  \n",
    "Create a Scatter Plot of the budget and  Domestic Gross (domgross) along with the model column's predictions and those of your new model."
   ]
  },
  {
   "cell_type": "code",
   "execution_count": null,
   "metadata": {},
   "outputs": [],
   "source": [
    "#Your code goes here"
   ]
  },
  {
   "cell_type": "code",
   "execution_count": null,
   "metadata": {},
   "outputs": [],
   "source": []
  }
 ],
 "metadata": {
  "kernelspec": {
   "display_name": "Python 3",
   "language": "python",
   "name": "python3"
  },
  "language_info": {
   "codemirror_mode": {
    "name": "ipython",
    "version": 3
   },
   "file_extension": ".py",
   "mimetype": "text/x-python",
   "name": "python",
   "nbconvert_exporter": "python",
   "pygments_lexer": "ipython3",
   "version": "3.6.4"
  }
 },
 "nbformat": 4,
 "nbformat_minor": 2
}
